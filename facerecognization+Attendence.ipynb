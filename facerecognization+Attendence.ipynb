{
 "cells": [
  {
   "cell_type": "code",
   "execution_count": 4,
   "metadata": {},
   "outputs": [
    {
     "name": "stdout",
     "output_type": "stream",
     "text": [
      "Requirement already satisfied: cmake in c:\\users\\nikhi\\anaconda3\\lib\\site-packages (3.28.1)\n"
     ]
    },
    {
     "name": "stderr",
     "output_type": "stream",
     "text": [
      "WARNING: Ignoring invalid distribution -atplotlib (c:\\users\\nikhi\\anaconda3\\lib\\site-packages)\n",
      "WARNING: Ignoring invalid distribution -atplotlib (c:\\users\\nikhi\\anaconda3\\lib\\site-packages)\n",
      "WARNING: Ignoring invalid distribution -atplotlib (c:\\users\\nikhi\\anaconda3\\lib\\site-packages)\n",
      "WARNING: Ignoring invalid distribution -atplotlib (c:\\users\\nikhi\\anaconda3\\lib\\site-packages)\n",
      "WARNING: Ignoring invalid distribution -atplotlib (c:\\users\\nikhi\\anaconda3\\lib\\site-packages)\n",
      "WARNING: Ignoring invalid distribution -atplotlib (c:\\users\\nikhi\\anaconda3\\lib\\site-packages)\n"
     ]
    }
   ],
   "source": [
    "!pip install cmake"
   ]
  },
  {
   "cell_type": "code",
   "execution_count": 4,
   "metadata": {},
   "outputs": [
    {
     "name": "stdout",
     "output_type": "stream",
     "text": [
      "Collecting dlib\n",
      "  Using cached dlib-19.24.2.tar.gz (11.8 MB)\n",
      "  Installing build dependencies: started\n",
      "  Installing build dependencies: finished with status 'done'\n",
      "  Getting requirements to build wheel: started\n",
      "  Getting requirements to build wheel: finished with status 'done'\n",
      "  Preparing metadata (pyproject.toml): started\n",
      "  Preparing metadata (pyproject.toml): finished with status 'done'\n",
      "Building wheels for collected packages: dlib\n",
      "  Building wheel for dlib (pyproject.toml): started\n",
      "  Building wheel for dlib (pyproject.toml): still running...\n",
      "  Building wheel for dlib (pyproject.toml): still running...\n",
      "  Building wheel for dlib (pyproject.toml): still running...\n",
      "  Building wheel for dlib (pyproject.toml): still running...\n",
      "  Building wheel for dlib (pyproject.toml): still running...\n",
      "  Building wheel for dlib (pyproject.toml): finished with status 'done'\n",
      "  Created wheel for dlib: filename=dlib-19.24.2-cp39-cp39-win_amd64.whl size=2846027 sha256=8ca1d77c0aa9fdea53434267d2f721c51631f7dea50031835a171d1867aec3fc\n",
      "  Stored in directory: c:\\users\\nikhi\\appdata\\local\\pip\\cache\\wheels\\f7\\ae\\0e\\3478eae12f6aed0e3d4880147ca855ba5d58f2e1098c73ab5f\n",
      "Successfully built dlib\n",
      "Installing collected packages: dlib\n",
      "Successfully installed dlib-19.24.2\n"
     ]
    },
    {
     "name": "stderr",
     "output_type": "stream",
     "text": [
      "WARNING: Ignoring invalid distribution -atplotlib (c:\\users\\nikhi\\anaconda3\\lib\\site-packages)\n",
      "WARNING: Ignoring invalid distribution -atplotlib (c:\\users\\nikhi\\anaconda3\\lib\\site-packages)\n",
      "WARNING: Ignoring invalid distribution -atplotlib (c:\\users\\nikhi\\anaconda3\\lib\\site-packages)\n",
      "WARNING: Ignoring invalid distribution -atplotlib (c:\\users\\nikhi\\anaconda3\\lib\\site-packages)\n",
      "WARNING: Ignoring invalid distribution -atplotlib (c:\\users\\nikhi\\anaconda3\\lib\\site-packages)\n",
      "WARNING: Ignoring invalid distribution -atplotlib (c:\\users\\nikhi\\anaconda3\\lib\\site-packages)\n",
      "WARNING: Ignoring invalid distribution -atplotlib (c:\\users\\nikhi\\anaconda3\\lib\\site-packages)\n"
     ]
    },
    {
     "name": "stdout",
     "output_type": "stream",
     "text": [
      "^C\n"
     ]
    }
   ],
   "source": [
    "!pip install dlib"
   ]
  },
  {
   "cell_type": "code",
   "execution_count": 7,
   "metadata": {},
   "outputs": [
    {
     "name": "stdout",
     "output_type": "stream",
     "text": [
      "Collecting face_recognition\n",
      "  Using cached face_recognition-1.3.0-py2.py3-none-any.whl (15 kB)\n",
      "Requirement already satisfied: Click>=6.0 in c:\\users\\nikhi\\anaconda3\\lib\\site-packages (from face_recognition) (8.0.4)\n",
      "Requirement already satisfied: Pillow in c:\\users\\nikhi\\anaconda3\\lib\\site-packages (from face_recognition) (9.2.0)\n",
      "Collecting face-recognition-models>=0.3.0\n",
      "  Using cached face_recognition_models-0.3.0-py2.py3-none-any.whl\n",
      "Requirement already satisfied: numpy in c:\\users\\nikhi\\anaconda3\\lib\\site-packages (from face_recognition) (1.23.1)\n",
      "Requirement already satisfied: dlib>=19.7 in c:\\users\\nikhi\\anaconda3\\lib\\site-packages (from face_recognition) (19.24.2)\n",
      "Requirement already satisfied: colorama in c:\\users\\nikhi\\anaconda3\\lib\\site-packages (from Click>=6.0->face_recognition) (0.4.5)\n",
      "Installing collected packages: face-recognition-models, face_recognition\n",
      "Successfully installed face-recognition-models-0.3.0 face_recognition-1.3.0\n"
     ]
    },
    {
     "name": "stderr",
     "output_type": "stream",
     "text": [
      "WARNING: Ignoring invalid distribution -atplotlib (c:\\users\\nikhi\\anaconda3\\lib\\site-packages)\n",
      "WARNING: Ignoring invalid distribution -atplotlib (c:\\users\\nikhi\\anaconda3\\lib\\site-packages)\n",
      "WARNING: Ignoring invalid distribution -atplotlib (c:\\users\\nikhi\\anaconda3\\lib\\site-packages)\n",
      "WARNING: Ignoring invalid distribution -atplotlib (c:\\users\\nikhi\\anaconda3\\lib\\site-packages)\n",
      "WARNING: Ignoring invalid distribution -atplotlib (c:\\users\\nikhi\\anaconda3\\lib\\site-packages)\n",
      "WARNING: Ignoring invalid distribution -atplotlib (c:\\users\\nikhi\\anaconda3\\lib\\site-packages)\n",
      "WARNING: Ignoring invalid distribution -atplotlib (c:\\users\\nikhi\\anaconda3\\lib\\site-packages)\n",
      "WARNING: Ignoring invalid distribution -atplotlib (c:\\users\\nikhi\\anaconda3\\lib\\site-packages)\n"
     ]
    }
   ],
   "source": [
    "!pip3 install face_recognition"
   ]
  },
  {
   "cell_type": "code",
   "execution_count": 1,
   "metadata": {},
   "outputs": [],
   "source": [
    "import dlib\n",
    "import face_recognition\n",
    "import cmake\n",
    "import numpy as np\n",
    "import cv2"
   ]
  },
  {
   "cell_type": "code",
   "execution_count": 2,
   "metadata": {},
   "outputs": [],
   "source": [
    "imgElon = face_recognition.load_image_file('elon.jpg')\n",
    "imgElon = cv2.cvtColor(imgElon,cv2.COLOR_BGR2RGB)\n",
    "imgTest = face_recognition.load_image_file('billgates.jpg')\n",
    "imgTest = cv2.cvtColor(imgTest,cv2.COLOR_BGR2RGB)"
   ]
  },
  {
   "cell_type": "code",
   "execution_count": 3,
   "metadata": {},
   "outputs": [
    {
     "data": {
      "text/plain": [
       "array([[[203, 224, 232],\n",
       "        [201, 222, 230],\n",
       "        [198, 219, 227],\n",
       "        ...,\n",
       "        [185, 182, 178],\n",
       "        [184, 181, 177],\n",
       "        [184, 181, 177]],\n",
       "\n",
       "       [[200, 221, 229],\n",
       "        [198, 219, 227],\n",
       "        [195, 216, 224],\n",
       "        ...,\n",
       "        [183, 180, 176],\n",
       "        [182, 179, 175],\n",
       "        [181, 178, 174]],\n",
       "\n",
       "       [[197, 218, 226],\n",
       "        [195, 216, 224],\n",
       "        [192, 213, 221],\n",
       "        ...,\n",
       "        [180, 177, 173],\n",
       "        [179, 176, 172],\n",
       "        [179, 176, 172]],\n",
       "\n",
       "       ...,\n",
       "\n",
       "       [[201, 218, 227],\n",
       "        [205, 222, 231],\n",
       "        [197, 214, 223],\n",
       "        ...,\n",
       "        [215, 219, 220],\n",
       "        [215, 219, 220],\n",
       "        [215, 219, 220]],\n",
       "\n",
       "       [[201, 218, 227],\n",
       "        [205, 222, 231],\n",
       "        [197, 214, 223],\n",
       "        ...,\n",
       "        [218, 222, 223],\n",
       "        [218, 222, 223],\n",
       "        [218, 222, 223]],\n",
       "\n",
       "       [[200, 217, 226],\n",
       "        [205, 222, 231],\n",
       "        [197, 214, 223],\n",
       "        ...,\n",
       "        [219, 223, 224],\n",
       "        [219, 223, 224],\n",
       "        [219, 223, 224]]], dtype=uint8)"
      ]
     },
     "execution_count": 3,
     "metadata": {},
     "output_type": "execute_result"
    }
   ],
   "source": [
    "faceLoc = face_recognition.face_locations(imgElon)[0]\n",
    "encodeElon = face_recognition.face_encodings(imgElon)[0]\n",
    "cv2.rectangle(imgElon,(faceLoc[3],faceLoc[0],faceLoc[1],faceLoc[2]),(255,0,255),2)\n",
    "faceLocTest = face_recognition.face_locations(imgTest)[0]\n",
    "encodeTest = face_recognition.face_encodings(imgTest)[0]\n",
    "cv2.rectangle(imgTest,(faceLocTest[3],faceLocTest[0],faceLocTest[1],faceLocTest[2]),(255,0,255),2)\n"
   ]
  },
  {
   "cell_type": "code",
   "execution_count": 4,
   "metadata": {},
   "outputs": [
    {
     "name": "stdout",
     "output_type": "stream",
     "text": [
      "[False] [0.70936805]\n"
     ]
    }
   ],
   "source": [
    "results = face_recognition.compare_faces([encodeElon],encodeTest)\n",
    "facedist = face_recognition.face_distance([encodeElon],encodeTest)\n",
    "print(results,facedist)"
   ]
  },
  {
   "cell_type": "code",
   "execution_count": 5,
   "metadata": {},
   "outputs": [
    {
     "data": {
      "text/plain": [
       "array([[[203, 224, 232],\n",
       "        [201, 222, 230],\n",
       "        [198, 219, 227],\n",
       "        ...,\n",
       "        [185, 182, 178],\n",
       "        [184, 181, 177],\n",
       "        [184, 181, 177]],\n",
       "\n",
       "       [[200, 221, 229],\n",
       "        [198, 219, 227],\n",
       "        [195, 216, 224],\n",
       "        ...,\n",
       "        [183, 180, 176],\n",
       "        [182, 179, 175],\n",
       "        [181, 178, 174]],\n",
       "\n",
       "       [[197, 218, 226],\n",
       "        [195, 216, 224],\n",
       "        [192, 213, 221],\n",
       "        ...,\n",
       "        [180, 177, 173],\n",
       "        [179, 176, 172],\n",
       "        [179, 176, 172]],\n",
       "\n",
       "       ...,\n",
       "\n",
       "       [[201, 218, 227],\n",
       "        [205, 222, 231],\n",
       "        [197, 214, 223],\n",
       "        ...,\n",
       "        [215, 219, 220],\n",
       "        [215, 219, 220],\n",
       "        [215, 219, 220]],\n",
       "\n",
       "       [[201, 218, 227],\n",
       "        [205, 222, 231],\n",
       "        [197, 214, 223],\n",
       "        ...,\n",
       "        [218, 222, 223],\n",
       "        [218, 222, 223],\n",
       "        [218, 222, 223]],\n",
       "\n",
       "       [[200, 217, 226],\n",
       "        [205, 222, 231],\n",
       "        [197, 214, 223],\n",
       "        ...,\n",
       "        [219, 223, 224],\n",
       "        [219, 223, 224],\n",
       "        [219, 223, 224]]], dtype=uint8)"
      ]
     },
     "execution_count": 5,
     "metadata": {},
     "output_type": "execute_result"
    }
   ],
   "source": [
    "cv2.putText(imgTest,f'{results} {round(facedist[0],2)}',(50,50),cv2.FONT_HERSHEY_COMPLEX,1,(0,0,255),2)"
   ]
  },
  {
   "cell_type": "code",
   "execution_count": null,
   "metadata": {},
   "outputs": [],
   "source": [
    "cv2.imshow('Elon Musk',imgElon)\n",
    "cv2.imshow('Elon Test',imgTest)\n",
    "cv2.waitKey(1)"
   ]
  },
  {
   "cell_type": "code",
   "execution_count": null,
   "metadata": {},
   "outputs": [],
   "source": []
  },
  {
   "cell_type": "code",
   "execution_count": 6,
   "metadata": {},
   "outputs": [],
   "source": []
  },
  {
   "cell_type": "code",
   "execution_count": null,
   "metadata": {},
   "outputs": [],
   "source": []
  },
  {
   "cell_type": "code",
   "execution_count": null,
   "metadata": {},
   "outputs": [],
   "source": []
  },
  {
   "cell_type": "code",
   "execution_count": null,
   "metadata": {},
   "outputs": [],
   "source": []
  },
  {
   "cell_type": "code",
   "execution_count": null,
   "metadata": {},
   "outputs": [],
   "source": []
  }
 ],
 "metadata": {
  "kernelspec": {
   "display_name": "base",
   "language": "python",
   "name": "python3"
  },
  "language_info": {
   "codemirror_mode": {
    "name": "ipython",
    "version": 3
   },
   "file_extension": ".py",
   "mimetype": "text/x-python",
   "name": "python",
   "nbconvert_exporter": "python",
   "pygments_lexer": "ipython3",
   "version": "3.9.13"
  }
 },
 "nbformat": 4,
 "nbformat_minor": 2
}
